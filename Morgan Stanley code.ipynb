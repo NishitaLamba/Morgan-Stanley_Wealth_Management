{
 "cells": [
  {
   "cell_type": "code",
   "execution_count": null,
   "metadata": {
    "executionInfo": {
     "elapsed": 20990,
     "status": "ok",
     "timestamp": 1603400382547,
     "user": {
      "displayName": "Nishita Lamba",
      "photoUrl": "https://lh3.googleusercontent.com/a-/AOh14GjyrfWquiPzPeTxXbQHLYebm1eYxUD1H3iL4pNK=s64",
      "userId": "02515429384459268129"
     },
     "user_tz": -330
    },
    "id": "juCFe6qGTpoK"
   },
   "outputs": [],
   "source": [
    "# Import PyDrive and associated libraries.\n",
    "# This only needs to be done once per notebook.\n",
    "# from pydrive.auth import GoogleAuth\n",
    "# from pydrive.drive import GoogleDrive\n",
    "# from google.colab import auth\n",
    "# from oauth2client.client import GoogleCredentials\n",
    "\n",
    "# # Authenticate and create the PyDrive client.\n",
    "# # This only needs to be done once per notebook.\n",
    "# auth.authenticate_user()\n",
    "# gauth = GoogleAuth()\n",
    "# gauth.credentials = GoogleCredentials.get_application_default()\n",
    "# drive = GoogleDrive(gauth)\n",
    "\n",
    "# Download a file based on its file ID.\n",
    "#\n",
    "# A file ID looks like: laggVyWshwcyP6kEI-y_W3P8D26sz\n",
    "#file_id = '1J05tsCBwdhEwkXygcbpKNztsXA6qErPC'\n",
    "#downloaded = drive.CreateFile({'id': file_id})\n",
    "#print('Downloaded content \"{}\"'.format(downloaded.GetContentString()))"
   ]
  },
  {
   "cell_type": "code",
   "execution_count": null,
   "metadata": {
    "colab": {
     "base_uri": "https://localhost:8080/",
     "height": 768
    },
    "executionInfo": {
     "elapsed": 34234,
     "status": "ok",
     "timestamp": 1603400395859,
     "user": {
      "displayName": "Nishita Lamba",
      "photoUrl": "https://lh3.googleusercontent.com/a-/AOh14GjyrfWquiPzPeTxXbQHLYebm1eYxUD1H3iL4pNK=s64",
      "userId": "02515429384459268129"
     },
     "user_tz": -330
    },
    "id": "qeKSBvt8G6sx",
    "outputId": "7cbe1bc2-8cad-450f-ba12-2e0eff73e348"
   },
   "outputs": [],
   "source": [
    "# !pip install twitterscraper\n",
    "# !pip install vaderSentiment\n",
    "# !pip install langdetect"
   ]
  },
  {
   "cell_type": "code",
   "execution_count": null,
   "metadata": {
    "executionInfo": {
     "elapsed": 3519,
     "status": "ok",
     "timestamp": 1603400398430,
     "user": {
      "displayName": "Nishita Lamba",
      "photoUrl": "https://lh3.googleusercontent.com/a-/AOh14GjyrfWquiPzPeTxXbQHLYebm1eYxUD1H3iL4pNK=s64",
      "userId": "02515429384459268129"
     },
     "user_tz": -330
    },
    "id": "CqQ_VuiaG6tD"
   },
   "outputs": [],
   "source": [
    "#Importing the relevent libraries\n",
    "import pandas as pd \n",
    "import datetime as dt \n",
    "from twitterscraper import query_tweets\n",
    "from vaderSentiment.vaderSentiment import SentimentIntensityAnalyzer\n",
    "from langdetect import detect \n",
    "import matplotlib.pyplot as plt\n",
    "import seaborn as sns\n",
    "import matplotlib.mlab as mlab\n"
   ]
  },
  {
   "cell_type": "code",
   "execution_count": null,
   "metadata": {
    "executionInfo": {
     "elapsed": 3121,
     "status": "ok",
     "timestamp": 1603400404293,
     "user": {
      "displayName": "Nishita Lamba",
      "photoUrl": "https://lh3.googleusercontent.com/a-/AOh14GjyrfWquiPzPeTxXbQHLYebm1eYxUD1H3iL4pNK=s64",
      "userId": "02515429384459268129"
     },
     "user_tz": -330
    },
    "id": "t_W3HgieG6tU"
   },
   "outputs": [],
   "source": [
    "begin_date = dt.date(2018,1,1)\n",
    "end_date = dt.date(2020,3,26)\n",
    "limit = 100000\n",
    "lang = 'english'\n"
   ]
  },
  {
   "cell_type": "code",
   "execution_count": null,
   "metadata": {
    "colab": {
     "base_uri": "https://localhost:8080/",
     "height": 51
    },
    "executionInfo": {
     "elapsed": 32938,
     "status": "ok",
     "timestamp": 1603400435429,
     "user": {
      "displayName": "Nishita Lamba",
      "photoUrl": "https://lh3.googleusercontent.com/a-/AOh14GjyrfWquiPzPeTxXbQHLYebm1eYxUD1H3iL4pNK=s64",
      "userId": "02515429384459268129"
     },
     "user_tz": -330
    },
    "id": "XyKDFJKSS4j1",
    "outputId": "8ea50ae9-b0fc-4d0f-ef2c-8855ef33b38c"
   },
   "outputs": [],
   "source": [
    "# from google.colab import drive\n",
    "# drive.mount('/gdrive/')\n",
    "# %cd /gdrive/My Drive/Morgan Stanley Project/Data and Notebook/\n",
    "#!cat '/gdrive/My Drive/Morgan Stanley Project/Data and Notebook/pretty_ms_tweets.json'"
   ]
  },
  {
   "cell_type": "code",
   "execution_count": null,
   "metadata": {
    "id": "13pgn9-1G6tg"
   },
   "outputs": [],
   "source": [
    "#tweets = query_tweets(\"morganstanley\", begindate = begin_date, enddate = end_date, limit = limit, lang = lang)"
   ]
  },
  {
   "cell_type": "code",
   "execution_count": null,
   "metadata": {
    "id": "KfPCfu5gG6to"
   },
   "outputs": [],
   "source": [
    "#Transforming it into a dataframe\n",
    "#df = pd.DataFrame(t.__dict__ for t in tweets)\n",
    "#Saving a file\n",
    "#df.to_csv('TwitterData.csv')"
   ]
  },
  {
   "cell_type": "code",
   "execution_count": null,
   "metadata": {
    "id": "Mhdf2ZFnG6tw"
   },
   "outputs": [],
   "source": [
    "df = pd.read_json('pretty_ms_tweets.json')"
   ]
  },
  {
   "cell_type": "code",
   "execution_count": null,
   "metadata": {
    "id": "UWj9RNnNG6t4"
   },
   "outputs": [],
   "source": [
    "#Sentiment Analysis\n",
    "#Vader Sentiment"
   ]
  },
  {
   "cell_type": "code",
   "execution_count": null,
   "metadata": {
    "id": "z7o_DrRqG6t-"
   },
   "outputs": [],
   "source": [
    "analyzer = SentimentIntensityAnalyzer()"
   ]
  },
  {
   "cell_type": "code",
   "execution_count": null,
   "metadata": {
    "id": "w_vQ0ftBG6uE"
   },
   "outputs": [],
   "source": [
    "sentiment = df['text'].apply(lambda x: analyzer.polarity_scores(x))"
   ]
  },
  {
   "cell_type": "code",
   "execution_count": null,
   "metadata": {
    "id": "tWZ1jU6QG6uJ"
   },
   "outputs": [],
   "source": [
    "#Inserting the sentiment into the dataframe\n",
    "df = pd.concat([df, sentiment.apply(pd.Series)],1)"
   ]
  },
  {
   "cell_type": "code",
   "execution_count": null,
   "metadata": {
    "id": "331Uc_iZG6uO"
   },
   "outputs": [],
   "source": [
    "#df['compound'].hist()\n",
    "#df['neg'].hist()\n",
    "#df['neu'].hist()\n",
    "#df['pos'].hist()"
   ]
  },
  {
   "cell_type": "code",
   "execution_count": null,
   "metadata": {
    "id": "48WsrI0HG6uT"
   },
   "outputs": [],
   "source": [
    "df['date'] = df['timestamp'].apply(lambda x: x.date())"
   ]
  },
  {
   "cell_type": "code",
   "execution_count": null,
   "metadata": {
    "colab": {
     "base_uri": "https://localhost:8080/",
     "height": 391
    },
    "executionInfo": {
     "elapsed": 884,
     "status": "ok",
     "timestamp": 1594999102550,
     "user": {
      "displayName": "Rohit Sharma",
      "photoUrl": "https://lh3.googleusercontent.com/a-/AOh14GhWgN7lL7zhfM_yVSDdaOlpXCtIroalpMI7qyBX=s64",
      "userId": "01857606508999211831"
     },
     "user_tz": 240
    },
    "id": "ci0j7oL3G6uX",
    "outputId": "f815bc8a-778e-4cd6-c756-034a2bf35b62"
   },
   "outputs": [],
   "source": [
    "#Plotting the change in sentiment over time\n",
    "plt.figure(figsize = (20,6))\n",
    "plt.plot(df.groupby('date').mean()['compound'].index, df.groupby('date').mean()['compound'].values, label = 'com')\n",
    "\n",
    "plt.plot(df.groupby('date').mean()['neg'].index, df.groupby('date').mean()['neg'].values)\n",
    "plt.plot(df.groupby('date').mean()['neu'].index, df.groupby('date').mean()['neu'].values)\n",
    "plt.plot(df.groupby('date').mean()['pos'].index, df.groupby('date').mean()['pos'].values)"
   ]
  },
  {
   "cell_type": "code",
   "execution_count": null,
   "metadata": {
    "colab": {
     "base_uri": "https://localhost:8080/",
     "height": 37
    },
    "executionInfo": {
     "elapsed": 302,
     "status": "ok",
     "timestamp": 1594999151093,
     "user": {
      "displayName": "Rohit Sharma",
      "photoUrl": "https://lh3.googleusercontent.com/a-/AOh14GhWgN7lL7zhfM_yVSDdaOlpXCtIroalpMI7qyBX=s64",
      "userId": "01857606508999211831"
     },
     "user_tz": 240
    },
    "id": "XiO0mj_iG6uc",
    "outputId": "267f226b-0f37-4965-ed62-3c86dcf9bdd5"
   },
   "outputs": [],
   "source": [
    "df['text'].iloc[0]\n",
    "#As we can see, several of the tweets captures donot refer to morgan stanley. Hence we need to filter out these tweets"
   ]
  },
  {
   "cell_type": "code",
   "execution_count": null,
   "metadata": {
    "colab": {
     "base_uri": "https://localhost:8080/",
     "height": 54
    },
    "executionInfo": {
     "elapsed": 325,
     "status": "ok",
     "timestamp": 1594999153211,
     "user": {
      "displayName": "Rohit Sharma",
      "photoUrl": "https://lh3.googleusercontent.com/a-/AOh14GhWgN7lL7zhfM_yVSDdaOlpXCtIroalpMI7qyBX=s64",
      "userId": "01857606508999211831"
     },
     "user_tz": 240
    },
    "id": "lIrtZGtkG6ug",
    "outputId": "ecf4e76c-5eb1-48a5-9421-0f949ffcb174"
   },
   "outputs": [],
   "source": [
    "Filter = df['text'].apply(lambda x: 'morganstanley' in x.lower())\n",
    "df_filter = df[Filter]\n",
    "df_filter.shape\n",
    "df_filter['text'].iloc[0]"
   ]
  },
  {
   "cell_type": "code",
   "execution_count": null,
   "metadata": {
    "colab": {
     "base_uri": "https://localhost:8080/",
     "height": 418
    },
    "executionInfo": {
     "elapsed": 927,
     "status": "ok",
     "timestamp": 1594999189954,
     "user": {
      "displayName": "Rohit Sharma",
      "photoUrl": "https://lh3.googleusercontent.com/a-/AOh14GhWgN7lL7zhfM_yVSDdaOlpXCtIroalpMI7qyBX=s64",
      "userId": "01857606508999211831"
     },
     "user_tz": 240
    },
    "id": "XH5ez2IEG6ul",
    "outputId": "ea2e72bb-13d8-4798-9670-dba31c13832b"
   },
   "outputs": [],
   "source": [
    "plt.figure(figsize = (20,6))\n",
    "plt.plot(df_filter.groupby('date').mean()['compound'].index, df_filter.groupby('date').mean()['compound'].values, label = 'Compound')\n",
    "plt.plot(df_filter.groupby('date').mean()['neg'].index, df_filter.groupby('date').mean()['neg'].values, label = 'Negative')\n",
    "plt.plot(df_filter.groupby('date').mean()['neu'].index, df_filter.groupby('date').mean()['neu'].values, label = 'Neutral')\n",
    "plt.plot(df_filter.groupby('date').mean()['pos'].index, df_filter.groupby('date').mean()['pos'].values, label = 'Positive')\n",
    "\n",
    "plt.legend(loc = 'best')\n",
    "plt.title('Sentiment over Time')\n",
    "plt.xlabel('Date')\n",
    "plt.ylabel('Sentiment')"
   ]
  },
  {
   "cell_type": "code",
   "execution_count": null,
   "metadata": {
    "colab": {
     "base_uri": "https://localhost:8080/",
     "height": 282
    },
    "executionInfo": {
     "elapsed": 576,
     "status": "ok",
     "timestamp": 1594999213984,
     "user": {
      "displayName": "Rohit Sharma",
      "photoUrl": "https://lh3.googleusercontent.com/a-/AOh14GhWgN7lL7zhfM_yVSDdaOlpXCtIroalpMI7qyBX=s64",
      "userId": "01857606508999211831"
     },
     "user_tz": 240
    },
    "id": "v-XTNnp8G6uq",
    "outputId": "abdc8e6c-3e83-48b6-e6e3-6832a773f022"
   },
   "outputs": [],
   "source": [
    "\n",
    "plt.hist(df_filter['compound'].values, label = 'Compound')\n",
    "plt.hist(df_filter['neg'].values, label = 'Negative')\n",
    "plt.hist(df_filter['neu'].values, label = 'Neutral')\n",
    "plt.hist(df_filter['pos'].values, label = 'Positive')\n",
    "\n",
    "plt.legend(loc = 'best')"
   ]
  },
  {
   "cell_type": "code",
   "execution_count": null,
   "metadata": {
    "id": "wQtImbT4G6ux",
    "outputId": "22eaff00-9b20-4d47-8b4f-258e83d5ae76"
   },
   "outputs": [],
   "source": [
    "df['compound'].hist()\n",
    "#df['neg'].hist()\n",
    "#df['neu'].hist()\n",
    "#df['pos'].hist()"
   ]
  },
  {
   "cell_type": "code",
   "execution_count": null,
   "metadata": {
    "colab": {
     "base_uri": "https://localhost:8080/",
     "height": 419
    },
    "executionInfo": {
     "elapsed": 314,
     "status": "ok",
     "timestamp": 1594999267477,
     "user": {
      "displayName": "Rohit Sharma",
      "photoUrl": "https://lh3.googleusercontent.com/a-/AOh14GhWgN7lL7zhfM_yVSDdaOlpXCtIroalpMI7qyBX=s64",
      "userId": "01857606508999211831"
     },
     "user_tz": 240
    },
    "id": "l7-0V-F8G6u1",
    "outputId": "1caf015f-2834-440d-a2a9-d52c409e77fe"
   },
   "outputs": [],
   "source": [
    "df.iloc[:,-4:-1]"
   ]
  },
  {
   "cell_type": "code",
   "execution_count": null,
   "metadata": {
    "executionInfo": {
     "elapsed": 11390,
     "status": "ok",
     "timestamp": 1603400459193,
     "user": {
      "displayName": "Nishita Lamba",
      "photoUrl": "https://lh3.googleusercontent.com/a-/AOh14GjyrfWquiPzPeTxXbQHLYebm1eYxUD1H3iL4pNK=s64",
      "userId": "02515429384459268129"
     },
     "user_tz": -330
    },
    "id": "5Ppc_z0-G6u5"
   },
   "outputs": [],
   "source": [
    "#Importing Various twitter data\n",
    "#Merril Lynch\n",
    "df_ml = pd.read_json('pretty_ml_tweets.json')\n",
    "\n",
    "#Goldman Sachs\n",
    "df_gs = pd.read_json('pretty_gs_tweets.json')\n",
    "\n",
    "#Morgan Stanley\n",
    "df_ms = pd.read_json('pretty_ms_tweets.json')\n",
    "\n",
    "#JP Morgan and Chase\n",
    "df_jp = pd.read_json('pretty_jp_tweets.json')\n",
    "\n",
    "#Wealth Management\n",
    "df_wm = pd.read_json('wm_tweets.json')"
   ]
  },
  {
   "cell_type": "code",
   "execution_count": null,
   "metadata": {
    "executionInfo": {
     "elapsed": 1283,
     "status": "ok",
     "timestamp": 1603400461670,
     "user": {
      "displayName": "Nishita Lamba",
      "photoUrl": "https://lh3.googleusercontent.com/a-/AOh14GjyrfWquiPzPeTxXbQHLYebm1eYxUD1H3iL4pNK=s64",
      "userId": "02515429384459268129"
     },
     "user_tz": -330
    },
    "id": "4q3tb9bDG6u8"
   },
   "outputs": [],
   "source": [
    "df_all = pd.concat([df_ml,df_gs,df_ms,df_jp,df_wm])"
   ]
  },
  {
   "cell_type": "code",
   "execution_count": null,
   "metadata": {
    "colab": {
     "base_uri": "https://localhost:8080/",
     "height": 391
    },
    "executionInfo": {
     "elapsed": 1270,
     "status": "ok",
     "timestamp": 1603400472446,
     "user": {
      "displayName": "Nishita Lamba",
      "photoUrl": "https://lh3.googleusercontent.com/a-/AOh14GjyrfWquiPzPeTxXbQHLYebm1eYxUD1H3iL4pNK=s64",
      "userId": "02515429384459268129"
     },
     "user_tz": -330
    },
    "id": "_jyINmeAHXas",
    "outputId": "e68c7b48-8e10-4b07-a015-45907f141ebf"
   },
   "outputs": [],
   "source": [
    "df_all.count()"
   ]
  },
  {
   "cell_type": "code",
   "execution_count": null,
   "metadata": {
    "colab": {
     "base_uri": "https://localhost:8080/",
     "height": 632
    },
    "executionInfo": {
     "elapsed": 7428,
     "status": "ok",
     "timestamp": 1594999384404,
     "user": {
      "displayName": "Rohit Sharma",
      "photoUrl": "https://lh3.googleusercontent.com/a-/AOh14GhWgN7lL7zhfM_yVSDdaOlpXCtIroalpMI7qyBX=s64",
      "userId": "01857606508999211831"
     },
     "user_tz": 240
    },
    "id": "ClfJCghpG6u_",
    "outputId": "f37b7be8-7536-44d7-c581-d6a9a1ae68bf"
   },
   "outputs": [],
   "source": [
    "#LDAVIS\n",
    "# !pip install pyLDAvis\n",
    "import pyLDAvis\n",
    "import pyLDAvis.sklearn\n",
    "pyLDAvis.enable_notebook()"
   ]
  },
  {
   "cell_type": "code",
   "execution_count": null,
   "metadata": {
    "id": "khtTaRYCG6vD"
   },
   "outputs": [],
   "source": [
    "from sklearn.datasets import fetch_20newsgroups\n",
    "from sklearn.feature_extraction.text import CountVectorizer, TfidfVectorizer\n",
    "from sklearn.decomposition import LatentDirichletAllocation"
   ]
  },
  {
   "cell_type": "code",
   "execution_count": null,
   "metadata": {
    "colab": {
     "base_uri": "https://localhost:8080/",
     "height": 34
    },
    "executionInfo": {
     "elapsed": 1139,
     "status": "ok",
     "timestamp": 1594999391149,
     "user": {
      "displayName": "Rohit Sharma",
      "photoUrl": "https://lh3.googleusercontent.com/a-/AOh14GhWgN7lL7zhfM_yVSDdaOlpXCtIroalpMI7qyBX=s64",
      "userId": "01857606508999211831"
     },
     "user_tz": 240
    },
    "id": "EpB5UN6RG6vH",
    "outputId": "822368a3-38cb-44f3-920d-11ad701eb80d"
   },
   "outputs": [],
   "source": [
    "tf_vectorizer = CountVectorizer(strip_accents = 'unicode',\n",
    "                                stop_words = 'english',\n",
    "                                lowercase = True,\n",
    "                                token_pattern = r'\\b[a-zA-Z]{3,}\\b',\n",
    "                                max_df = 0.5, \n",
    "                                min_df = 10)\n",
    "\n",
    "dtm_tf = tf_vectorizer.fit_transform(df['text'].values)\n",
    "print(dtm_tf.shape)"
   ]
  },
  {
   "cell_type": "code",
   "execution_count": null,
   "metadata": {
    "id": "58wsKv-gG6vK"
   },
   "outputs": [],
   "source": [
    "tfidf_vectorizer = TfidfVectorizer(**tf_vectorizer.get_params())"
   ]
  },
  {
   "cell_type": "code",
   "execution_count": null,
   "metadata": {
    "id": "VeDfDk9kG6vN"
   },
   "outputs": [],
   "source": [
    "#dtm_tfidf = tfidf_vectorizer.fit_transform(df_all['text'].values)\n",
    "#lda_tfidf = LatentDirichletAllocation(n_components=10, random_state=0)\n",
    "#lda_tfidf.fit(dtm_tfidf)\n",
    "#pyLDAvis.sklearn.prepare(lda_tfidf, dtm_tfidf, tfidf_vectorizer)"
   ]
  },
  {
   "cell_type": "code",
   "execution_count": null,
   "metadata": {
    "id": "LPT7PdUoG6vQ"
   },
   "outputs": [],
   "source": [
    "sentiment_wm = df_wm['text'].apply(lambda x: analyzer.polarity_scores(x))\n",
    "df_wm = pd.concat([df_wm, sentiment_wm.apply(pd.Series)],1)"
   ]
  },
  {
   "cell_type": "code",
   "execution_count": null,
   "metadata": {
    "colab": {
     "base_uri": "https://localhost:8080/",
     "height": 683
    },
    "executionInfo": {
     "elapsed": 376,
     "status": "ok",
     "timestamp": 1594999429620,
     "user": {
      "displayName": "Rohit Sharma",
      "photoUrl": "https://lh3.googleusercontent.com/a-/AOh14GhWgN7lL7zhfM_yVSDdaOlpXCtIroalpMI7qyBX=s64",
      "userId": "01857606508999211831"
     },
     "user_tz": 240
    },
    "id": "kvqFDbMmG6vT",
    "outputId": "173c1939-747b-4d94-899b-bd76a38bbc99"
   },
   "outputs": [],
   "source": [
    "df_wm.head()"
   ]
  },
  {
   "cell_type": "code",
   "execution_count": null,
   "metadata": {
    "id": "MeWKCLKCG6vW"
   },
   "outputs": [],
   "source": [
    "df_wm_pos = df_wm[df_wm['compound'] >= 0.05]\n",
    "df_wm_neg = df_wm[df_wm['compound'] <= -0.05]\n",
    "df_wm_neu = df_wm[( df_wm['compound'] < 0.05 ) & ( df_wm['compound'] > -0.05 )]\n"
   ]
  },
  {
   "cell_type": "code",
   "execution_count": null,
   "metadata": {
    "colab": {
     "base_uri": "https://localhost:8080/",
     "height": 915
    },
    "executionInfo": {
     "elapsed": 22355,
     "status": "ok",
     "timestamp": 1594999572105,
     "user": {
      "displayName": "Rohit Sharma",
      "photoUrl": "https://lh3.googleusercontent.com/a-/AOh14GhWgN7lL7zhfM_yVSDdaOlpXCtIroalpMI7qyBX=s64",
      "userId": "01857606508999211831"
     },
     "user_tz": 240
    },
    "id": "joZRMzOBG6vZ",
    "outputId": "49088cb5-b3f5-4702-cda6-9a54861861b7"
   },
   "outputs": [],
   "source": [
    "dtm_tfidf = tfidf_vectorizer.fit_transform(df_wm_pos['text'].values)\n",
    "lda_tfidf = LatentDirichletAllocation(n_components=10, random_state=0)\n",
    "lda_tfidf.fit(dtm_tfidf)\n",
    "pyLDAvis.sklearn.prepare(lda_tfidf, dtm_tfidf, tfidf_vectorizer)"
   ]
  },
  {
   "cell_type": "code",
   "execution_count": null,
   "metadata": {
    "colab": {
     "base_uri": "https://localhost:8080/",
     "height": 915
    },
    "executionInfo": {
     "elapsed": 4259,
     "status": "ok",
     "timestamp": 1594999751766,
     "user": {
      "displayName": "Rohit Sharma",
      "photoUrl": "https://lh3.googleusercontent.com/a-/AOh14GhWgN7lL7zhfM_yVSDdaOlpXCtIroalpMI7qyBX=s64",
      "userId": "01857606508999211831"
     },
     "user_tz": 240
    },
    "id": "0fknAcWOG6vc",
    "outputId": "7a65de65-930f-4747-eee7-95c9e7c3e341"
   },
   "outputs": [],
   "source": [
    "dtm_tfidf = tfidf_vectorizer.fit_transform(df_wm_neg['text'].values)\n",
    "lda_tfidf = LatentDirichletAllocation(n_components=10, random_state=0)\n",
    "lda_tfidf.fit(dtm_tfidf)\n",
    "pyLDAvis.sklearn.prepare(lda_tfidf, dtm_tfidf, tfidf_vectorizer)"
   ]
  },
  {
   "cell_type": "code",
   "execution_count": null,
   "metadata": {
    "colab": {
     "base_uri": "https://localhost:8080/",
     "height": 915
    },
    "executionInfo": {
     "elapsed": 9393,
     "status": "ok",
     "timestamp": 1594999882598,
     "user": {
      "displayName": "Rohit Sharma",
      "photoUrl": "https://lh3.googleusercontent.com/a-/AOh14GhWgN7lL7zhfM_yVSDdaOlpXCtIroalpMI7qyBX=s64",
      "userId": "01857606508999211831"
     },
     "user_tz": 240
    },
    "id": "GAYoRVWFG6vf",
    "outputId": "c1fd8710-f41f-455d-b2bb-c89c32446912"
   },
   "outputs": [],
   "source": [
    "dtm_tfidf = tfidf_vectorizer.fit_transform(df_wm_neu['text'].values)\n",
    "lda_tfidf = LatentDirichletAllocation(n_components=10, random_state=0)\n",
    "lda_tfidf.fit(dtm_tfidf)\n",
    "pyLDAvis.sklearn.prepare(lda_tfidf, dtm_tfidf, tfidf_vectorizer)"
   ]
  },
  {
   "cell_type": "code",
   "execution_count": null,
   "metadata": {
    "id": "BS5nH3VNG6vj",
    "outputId": "a88e04fc-47e3-4b01-9c58-9258c1940ef6"
   },
   "outputs": [],
   "source": [
    "print(df_wm_pos.shape)\n",
    "print(df_wm_neg.shape)\n",
    "print(df_wm_neu.shape)"
   ]
  },
  {
   "cell_type": "code",
   "execution_count": null,
   "metadata": {
    "id": "M7snM5EvG6vm"
   },
   "outputs": [],
   "source": [
    "sentiment_gs = df_gs['text'].apply(lambda x: analyzer.polarity_scores(x))\n",
    "df_gs = pd.concat([df_gs, sentiment_gs.apply(pd.Series)],1)\n",
    "\n",
    "df_gs_pos = df_gs[df_gs['compound'] >= 0.05]\n",
    "df_gs_neg = df_gs[df_gs['compound'] <= -0.05]\n",
    "df_gs_neu = df_gs[( df_gs['compound'] < 0.05 ) & ( df_gs['compound'] > -0.05 )]"
   ]
  },
  {
   "cell_type": "code",
   "execution_count": null,
   "metadata": {
    "colab": {
     "base_uri": "https://localhost:8080/",
     "height": 915
    },
    "executionInfo": {
     "elapsed": 10908,
     "status": "ok",
     "timestamp": 1594999949608,
     "user": {
      "displayName": "Rohit Sharma",
      "photoUrl": "https://lh3.googleusercontent.com/a-/AOh14GhWgN7lL7zhfM_yVSDdaOlpXCtIroalpMI7qyBX=s64",
      "userId": "01857606508999211831"
     },
     "user_tz": 240
    },
    "id": "vdpUN_G0G6vo",
    "outputId": "44ff1f93-2bd9-4d23-8ad7-9ffacf3a01a6"
   },
   "outputs": [],
   "source": [
    "dtm_tfidf = tfidf_vectorizer.fit_transform(df_gs_pos['text'].values)\n",
    "lda_tfidf = LatentDirichletAllocation(n_components=10, random_state=0)\n",
    "lda_tfidf.fit(dtm_tfidf)\n",
    "pyLDAvis.sklearn.prepare(lda_tfidf, dtm_tfidf, tfidf_vectorizer)"
   ]
  },
  {
   "cell_type": "code",
   "execution_count": null,
   "metadata": {
    "colab": {
     "base_uri": "https://localhost:8080/",
     "height": 915
    },
    "executionInfo": {
     "elapsed": 7697,
     "status": "ok",
     "timestamp": 1595000004342,
     "user": {
      "displayName": "Rohit Sharma",
      "photoUrl": "https://lh3.googleusercontent.com/a-/AOh14GhWgN7lL7zhfM_yVSDdaOlpXCtIroalpMI7qyBX=s64",
      "userId": "01857606508999211831"
     },
     "user_tz": 240
    },
    "id": "wffhrgi2G6vu",
    "outputId": "26c25339-250e-439e-bc99-2d54d1be4bfb"
   },
   "outputs": [],
   "source": [
    "dtm_tfidf = tfidf_vectorizer.fit_transform(df_gs_neg['text'].values)\n",
    "lda_tfidf = LatentDirichletAllocation(n_components=10, random_state=0)\n",
    "lda_tfidf.fit(dtm_tfidf)\n",
    "pyLDAvis.sklearn.prepare(lda_tfidf, dtm_tfidf, tfidf_vectorizer)"
   ]
  },
  {
   "cell_type": "code",
   "execution_count": null,
   "metadata": {
    "colab": {
     "base_uri": "https://localhost:8080/",
     "height": 915
    },
    "executionInfo": {
     "elapsed": 13617,
     "status": "ok",
     "timestamp": 1595001729445,
     "user": {
      "displayName": "Rohit Sharma",
      "photoUrl": "https://lh3.googleusercontent.com/a-/AOh14GhWgN7lL7zhfM_yVSDdaOlpXCtIroalpMI7qyBX=s64",
      "userId": "01857606508999211831"
     },
     "user_tz": 240
    },
    "id": "IXPu0BxPG6vx",
    "outputId": "05f0b939-f5fc-4e84-c6da-05ce1ed45d24"
   },
   "outputs": [],
   "source": [
    "dtm_tfidf = tfidf_vectorizer.fit_transform(df_gs_neu['text'].values)\n",
    "lda_tfidf = LatentDirichletAllocation(n_components=10, random_state=0)\n",
    "lda_tfidf.fit(dtm_tfidf)\n",
    "pyLDAvis.sklearn.prepare(lda_tfidf, dtm_tfidf, tfidf_vectorizer)"
   ]
  },
  {
   "cell_type": "code",
   "execution_count": null,
   "metadata": {
    "id": "v3m8sH48G6v0",
    "outputId": "930bbb58-6164-435e-e69c-49267382999a"
   },
   "outputs": [],
   "source": [
    "print(df_gs_pos.shape)\n",
    "print(df_gs_neg.shape)\n",
    "print(df_gs_neu.shape)"
   ]
  },
  {
   "cell_type": "code",
   "execution_count": null,
   "metadata": {
    "id": "ZeNJHOn2G6v3"
   },
   "outputs": [],
   "source": [
    "sentiment_ms = df_ms['text'].apply(lambda x: analyzer.polarity_scores(x))\n",
    "df_ms = pd.concat([df_ms, sentiment_ms.apply(pd.Series)],1)\n",
    "\n",
    "df_ms_pos = df_ms[df_ms['compound'] >= 0.05]\n",
    "df_ms_neg = df_ms[df_ms['compound'] <= -0.05]\n",
    "df_ms_neu = df_ms[( df_ms['compound'] < 0.05 ) & ( df_ms['compound'] > -0.05 )]"
   ]
  },
  {
   "cell_type": "code",
   "execution_count": null,
   "metadata": {
    "colab": {
     "base_uri": "https://localhost:8080/",
     "height": 68
    },
    "executionInfo": {
     "elapsed": 363,
     "status": "ok",
     "timestamp": 1595001825293,
     "user": {
      "displayName": "Rohit Sharma",
      "photoUrl": "https://lh3.googleusercontent.com/a-/AOh14GhWgN7lL7zhfM_yVSDdaOlpXCtIroalpMI7qyBX=s64",
      "userId": "01857606508999211831"
     },
     "user_tz": 240
    },
    "id": "ngqvgJIbG6v6",
    "outputId": "4bd350ed-865a-4cc1-f8b3-3e0c4aebf8d2"
   },
   "outputs": [],
   "source": [
    "print(df_ms_pos.shape)\n",
    "print(df_ms_neg.shape)\n",
    "print(df_ms_neu.shape)"
   ]
  },
  {
   "cell_type": "code",
   "execution_count": null,
   "metadata": {
    "colab": {
     "base_uri": "https://localhost:8080/",
     "height": 915
    },
    "executionInfo": {
     "elapsed": 14422,
     "status": "ok",
     "timestamp": 1595001878887,
     "user": {
      "displayName": "Rohit Sharma",
      "photoUrl": "https://lh3.googleusercontent.com/a-/AOh14GhWgN7lL7zhfM_yVSDdaOlpXCtIroalpMI7qyBX=s64",
      "userId": "01857606508999211831"
     },
     "user_tz": 240
    },
    "id": "RGJQK9mLG6v9",
    "outputId": "e14d0387-cab5-47c4-c714-fb414aa7c7ce"
   },
   "outputs": [],
   "source": [
    "dtm_tfidf = tfidf_vectorizer.fit_transform(df_ms_pos['text'].values)\n",
    "lda_tfidf = LatentDirichletAllocation(n_components=10, random_state=0)\n",
    "lda_tfidf.fit(dtm_tfidf)\n",
    "pyLDAvis.sklearn.prepare(lda_tfidf, dtm_tfidf, tfidf_vectorizer)"
   ]
  },
  {
   "cell_type": "code",
   "execution_count": null,
   "metadata": {
    "colab": {
     "base_uri": "https://localhost:8080/",
     "height": 915
    },
    "executionInfo": {
     "elapsed": 7593,
     "status": "ok",
     "timestamp": 1595002316640,
     "user": {
      "displayName": "Rohit Sharma",
      "photoUrl": "https://lh3.googleusercontent.com/a-/AOh14GhWgN7lL7zhfM_yVSDdaOlpXCtIroalpMI7qyBX=s64",
      "userId": "01857606508999211831"
     },
     "user_tz": 240
    },
    "id": "DR9WMSOzG6v_",
    "outputId": "8dee57be-41a7-4fdf-db3a-acf05bb1ce26"
   },
   "outputs": [],
   "source": [
    "dtm_tfidf = tfidf_vectorizer.fit_transform(df_ms_neg['text'].values)\n",
    "lda_tfidf = LatentDirichletAllocation(n_components=10, random_state=0)\n",
    "lda_tfidf.fit(dtm_tfidf)\n",
    "pyLDAvis.sklearn.prepare(lda_tfidf, dtm_tfidf, tfidf_vectorizer)"
   ]
  },
  {
   "cell_type": "code",
   "execution_count": null,
   "metadata": {
    "colab": {
     "base_uri": "https://localhost:8080/",
     "height": 915
    },
    "executionInfo": {
     "elapsed": 8028,
     "status": "ok",
     "timestamp": 1595002332828,
     "user": {
      "displayName": "Rohit Sharma",
      "photoUrl": "https://lh3.googleusercontent.com/a-/AOh14GhWgN7lL7zhfM_yVSDdaOlpXCtIroalpMI7qyBX=s64",
      "userId": "01857606508999211831"
     },
     "user_tz": 240
    },
    "id": "sRKbojvRG6wC",
    "outputId": "922cef0a-6613-4a0a-c81f-3c01babedb56"
   },
   "outputs": [],
   "source": [
    "dtm_tfidf = tfidf_vectorizer.fit_transform(df_ms_neu['text'].values)\n",
    "lda_tfidf = LatentDirichletAllocation(n_components=10, random_state=0)\n",
    "lda_tfidf.fit(dtm_tfidf)\n",
    "pyLDAvis.sklearn.prepare(lda_tfidf, dtm_tfidf, tfidf_vectorizer)"
   ]
  },
  {
   "cell_type": "code",
   "execution_count": null,
   "metadata": {},
   "outputs": [],
   "source": []
  }
 ],
 "metadata": {
  "colab": {
   "collapsed_sections": [],
   "name": " MS_v2.ipynb",
   "provenance": [
    {
     "file_id": "1MSebJXusp36R0y7iPB16lusahclBob6u",
     "timestamp": 1592411287932
    }
   ]
  },
  "kernelspec": {
   "display_name": "Python 3",
   "language": "python",
   "name": "python3"
  },
  "language_info": {
   "codemirror_mode": {
    "name": "ipython",
    "version": 3
   },
   "file_extension": ".py",
   "mimetype": "text/x-python",
   "name": "python",
   "nbconvert_exporter": "python",
   "pygments_lexer": "ipython3",
   "version": "3.8.3"
  }
 },
 "nbformat": 4,
 "nbformat_minor": 1
}
